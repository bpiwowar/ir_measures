{
  "nbformat": 4,
  "nbformat_minor": 0,
  "metadata": {
    "colab": {
      "name": "ir-measures.ipynb",
      "provenance": [],
      "collapsed_sections": []
    },
    "kernelspec": {
      "name": "python3",
      "display_name": "Python 3"
    },
    "language_info": {
      "name": "python"
    },
    "widgets": {
      "application/vnd.jupyter.widget-state+json": {
        "07432eee05c14c38916241410f692c6a": {
          "model_module": "@jupyter-widgets/controls",
          "model_name": "HBoxModel",
          "model_module_version": "1.5.0",
          "state": {
            "_view_name": "HBoxView",
            "_dom_classes": [],
            "_model_name": "HBoxModel",
            "_view_module": "@jupyter-widgets/controls",
            "_model_module_version": "1.5.0",
            "_view_count": null,
            "_view_module_version": "1.5.0",
            "box_style": "",
            "layout": "IPY_MODEL_cdf406e1749c4479bd268a22db11526c",
            "_model_module": "@jupyter-widgets/controls",
            "children": [
              "IPY_MODEL_a82c0181c97e48249b775698204b63a7",
              "IPY_MODEL_86a5d201e25944dbb4e63c7e9471cdba",
              "IPY_MODEL_e80b23c4f32643b988237e376b489e50"
            ]
          }
        },
        "cdf406e1749c4479bd268a22db11526c": {
          "model_module": "@jupyter-widgets/base",
          "model_name": "LayoutModel",
          "model_module_version": "1.2.0",
          "state": {
            "_view_name": "LayoutView",
            "grid_template_rows": null,
            "right": null,
            "justify_content": null,
            "_view_module": "@jupyter-widgets/base",
            "overflow": null,
            "_model_module_version": "1.2.0",
            "_view_count": null,
            "flex_flow": null,
            "width": null,
            "min_width": null,
            "border": null,
            "align_items": null,
            "bottom": null,
            "_model_module": "@jupyter-widgets/base",
            "top": null,
            "grid_column": null,
            "overflow_y": null,
            "overflow_x": null,
            "grid_auto_flow": null,
            "grid_area": null,
            "grid_template_columns": null,
            "flex": null,
            "_model_name": "LayoutModel",
            "justify_items": null,
            "grid_row": null,
            "max_height": null,
            "align_content": null,
            "visibility": null,
            "align_self": null,
            "height": null,
            "min_height": null,
            "padding": null,
            "grid_auto_rows": null,
            "grid_gap": null,
            "max_width": null,
            "order": null,
            "_view_module_version": "1.2.0",
            "grid_template_areas": null,
            "object_position": null,
            "object_fit": null,
            "grid_auto_columns": null,
            "margin": null,
            "display": null,
            "left": null
          }
        },
        "a82c0181c97e48249b775698204b63a7": {
          "model_module": "@jupyter-widgets/controls",
          "model_name": "HTMLModel",
          "model_module_version": "1.5.0",
          "state": {
            "_view_name": "HTMLView",
            "style": "IPY_MODEL_3bdc989056754c19b9e051103c92c632",
            "_dom_classes": [],
            "description": "",
            "_model_name": "HTMLModel",
            "placeholder": "​",
            "_view_module": "@jupyter-widgets/controls",
            "_model_module_version": "1.5.0",
            "value": "data.lexicon.fsomapfile: 100%",
            "_view_count": null,
            "_view_module_version": "1.5.0",
            "description_tooltip": null,
            "_model_module": "@jupyter-widgets/controls",
            "layout": "IPY_MODEL_8b49253640a44551a24901913a73648b"
          }
        },
        "86a5d201e25944dbb4e63c7e9471cdba": {
          "model_module": "@jupyter-widgets/controls",
          "model_name": "FloatProgressModel",
          "model_module_version": "1.5.0",
          "state": {
            "_view_name": "ProgressView",
            "style": "IPY_MODEL_20f4ae3ead36436488d46929248f6641",
            "_dom_classes": [],
            "description": "",
            "_model_name": "FloatProgressModel",
            "bar_style": "success",
            "max": 14886122,
            "_view_module": "@jupyter-widgets/controls",
            "_model_module_version": "1.5.0",
            "value": 14886122,
            "_view_count": null,
            "_view_module_version": "1.5.0",
            "orientation": "horizontal",
            "min": 0,
            "description_tooltip": null,
            "_model_module": "@jupyter-widgets/controls",
            "layout": "IPY_MODEL_b31231ff52aa4d6cbd999c8017526ec2"
          }
        },
        "e80b23c4f32643b988237e376b489e50": {
          "model_module": "@jupyter-widgets/controls",
          "model_name": "HTMLModel",
          "model_module_version": "1.5.0",
          "state": {
            "_view_name": "HTMLView",
            "style": "IPY_MODEL_12561d8aff784a08a54c3e8265f1f7ba",
            "_dom_classes": [],
            "description": "",
            "_model_name": "HTMLModel",
            "placeholder": "​",
            "_view_module": "@jupyter-widgets/controls",
            "_model_module_version": "1.5.0",
            "value": " 14.2M/14.2M [00:01&lt;00:00, 16.1MiB/s]",
            "_view_count": null,
            "_view_module_version": "1.5.0",
            "description_tooltip": null,
            "_model_module": "@jupyter-widgets/controls",
            "layout": "IPY_MODEL_8b12754b22a0416ca75895e2e710e913"
          }
        },
        "3bdc989056754c19b9e051103c92c632": {
          "model_module": "@jupyter-widgets/controls",
          "model_name": "DescriptionStyleModel",
          "model_module_version": "1.5.0",
          "state": {
            "_view_name": "StyleView",
            "_model_name": "DescriptionStyleModel",
            "description_width": "",
            "_view_module": "@jupyter-widgets/base",
            "_model_module_version": "1.5.0",
            "_view_count": null,
            "_view_module_version": "1.2.0",
            "_model_module": "@jupyter-widgets/controls"
          }
        },
        "8b49253640a44551a24901913a73648b": {
          "model_module": "@jupyter-widgets/base",
          "model_name": "LayoutModel",
          "model_module_version": "1.2.0",
          "state": {
            "_view_name": "LayoutView",
            "grid_template_rows": null,
            "right": null,
            "justify_content": null,
            "_view_module": "@jupyter-widgets/base",
            "overflow": null,
            "_model_module_version": "1.2.0",
            "_view_count": null,
            "flex_flow": null,
            "width": null,
            "min_width": null,
            "border": null,
            "align_items": null,
            "bottom": null,
            "_model_module": "@jupyter-widgets/base",
            "top": null,
            "grid_column": null,
            "overflow_y": null,
            "overflow_x": null,
            "grid_auto_flow": null,
            "grid_area": null,
            "grid_template_columns": null,
            "flex": null,
            "_model_name": "LayoutModel",
            "justify_items": null,
            "grid_row": null,
            "max_height": null,
            "align_content": null,
            "visibility": null,
            "align_self": null,
            "height": null,
            "min_height": null,
            "padding": null,
            "grid_auto_rows": null,
            "grid_gap": null,
            "max_width": null,
            "order": null,
            "_view_module_version": "1.2.0",
            "grid_template_areas": null,
            "object_position": null,
            "object_fit": null,
            "grid_auto_columns": null,
            "margin": null,
            "display": null,
            "left": null
          }
        },
        "20f4ae3ead36436488d46929248f6641": {
          "model_module": "@jupyter-widgets/controls",
          "model_name": "ProgressStyleModel",
          "model_module_version": "1.5.0",
          "state": {
            "_view_name": "StyleView",
            "_model_name": "ProgressStyleModel",
            "description_width": "",
            "_view_module": "@jupyter-widgets/base",
            "_model_module_version": "1.5.0",
            "_view_count": null,
            "_view_module_version": "1.2.0",
            "bar_color": null,
            "_model_module": "@jupyter-widgets/controls"
          }
        },
        "b31231ff52aa4d6cbd999c8017526ec2": {
          "model_module": "@jupyter-widgets/base",
          "model_name": "LayoutModel",
          "model_module_version": "1.2.0",
          "state": {
            "_view_name": "LayoutView",
            "grid_template_rows": null,
            "right": null,
            "justify_content": null,
            "_view_module": "@jupyter-widgets/base",
            "overflow": null,
            "_model_module_version": "1.2.0",
            "_view_count": null,
            "flex_flow": null,
            "width": null,
            "min_width": null,
            "border": null,
            "align_items": null,
            "bottom": null,
            "_model_module": "@jupyter-widgets/base",
            "top": null,
            "grid_column": null,
            "overflow_y": null,
            "overflow_x": null,
            "grid_auto_flow": null,
            "grid_area": null,
            "grid_template_columns": null,
            "flex": null,
            "_model_name": "LayoutModel",
            "justify_items": null,
            "grid_row": null,
            "max_height": null,
            "align_content": null,
            "visibility": null,
            "align_self": null,
            "height": null,
            "min_height": null,
            "padding": null,
            "grid_auto_rows": null,
            "grid_gap": null,
            "max_width": null,
            "order": null,
            "_view_module_version": "1.2.0",
            "grid_template_areas": null,
            "object_position": null,
            "object_fit": null,
            "grid_auto_columns": null,
            "margin": null,
            "display": null,
            "left": null
          }
        },
        "12561d8aff784a08a54c3e8265f1f7ba": {
          "model_module": "@jupyter-widgets/controls",
          "model_name": "DescriptionStyleModel",
          "model_module_version": "1.5.0",
          "state": {
            "_view_name": "StyleView",
            "_model_name": "DescriptionStyleModel",
            "description_width": "",
            "_view_module": "@jupyter-widgets/base",
            "_model_module_version": "1.5.0",
            "_view_count": null,
            "_view_module_version": "1.2.0",
            "_model_module": "@jupyter-widgets/controls"
          }
        },
        "8b12754b22a0416ca75895e2e710e913": {
          "model_module": "@jupyter-widgets/base",
          "model_name": "LayoutModel",
          "model_module_version": "1.2.0",
          "state": {
            "_view_name": "LayoutView",
            "grid_template_rows": null,
            "right": null,
            "justify_content": null,
            "_view_module": "@jupyter-widgets/base",
            "overflow": null,
            "_model_module_version": "1.2.0",
            "_view_count": null,
            "flex_flow": null,
            "width": null,
            "min_width": null,
            "border": null,
            "align_items": null,
            "bottom": null,
            "_model_module": "@jupyter-widgets/base",
            "top": null,
            "grid_column": null,
            "overflow_y": null,
            "overflow_x": null,
            "grid_auto_flow": null,
            "grid_area": null,
            "grid_template_columns": null,
            "flex": null,
            "_model_name": "LayoutModel",
            "justify_items": null,
            "grid_row": null,
            "max_height": null,
            "align_content": null,
            "visibility": null,
            "align_self": null,
            "height": null,
            "min_height": null,
            "padding": null,
            "grid_auto_rows": null,
            "grid_gap": null,
            "max_width": null,
            "order": null,
            "_view_module_version": "1.2.0",
            "grid_template_areas": null,
            "object_position": null,
            "object_fit": null,
            "grid_auto_columns": null,
            "margin": null,
            "display": null,
            "left": null
          }
        }
      }
    }
  },
  "cells": [
    {
      "cell_type": "markdown",
      "metadata": {
        "id": "p4kLrN3axVrb"
      },
      "source": [
        "# ir-measures\n",
        "\n",
        "This is an interactive demonstration of the [`ir-measures`](https://ir-measur.es/) tool.\n",
        "\n",
        "Let's start by installing the package via `pip`:"
      ]
    },
    {
      "cell_type": "code",
      "metadata": {
        "colab": {
          "base_uri": "https://localhost:8080/"
        },
        "id": "WmDiVg8CxTxH",
        "outputId": "ef6198c7-18fd-4b8f-8b2b-5d44849facb7"
      },
      "source": [
        "!pip install -q git+https://github.com/terrierteam/ir_measures"
      ],
      "execution_count": 1,
      "outputs": [
        {
          "output_type": "stream",
          "name": "stdout",
          "text": [
            "\u001b[K     |████████████████████████████████| 291 kB 5.3 MB/s \n",
            "\u001b[K     |████████████████████████████████| 59 kB 5.6 MB/s \n",
            "\u001b[?25h  Building wheel for ir-measures (setup.py) ... \u001b[?25l\u001b[?25hdone\n",
            "  Building wheel for cwl-eval (setup.py) ... \u001b[?25l\u001b[?25hdone\n"
          ]
        }
      ]
    },
    {
      "cell_type": "markdown",
      "metadata": {
        "id": "7wSVmX1VzSjb"
      },
      "source": [
        "We'll now grab all the data we need. Let's use data from Round 1 of the TREC COVID task."
      ]
    },
    {
      "cell_type": "code",
      "metadata": {
        "colab": {
          "base_uri": "https://localhost:8080/"
        },
        "id": "vefPwMwMzQyY",
        "outputId": "6b1a14d0-48ca-4da7-cb90-0bcd20a8f62c"
      },
      "source": [
        "!wget https://ir.nist.gov/covidSubmit/data/qrels-rnd1.txt\n",
        "!wget https://ir.nist.gov/covidSubmit/archive/round1/sab20.1.meta.docs\n",
        "!wget https://ir.nist.gov/covidSubmit/archive/round1/run2 -O GUIR_s2_run2"
      ],
      "execution_count": 2,
      "outputs": [
        {
          "output_type": "stream",
          "name": "stdout",
          "text": [
            "--2021-10-14 08:53:30--  https://ir.nist.gov/covidSubmit/data/qrels-rnd1.txt\n",
            "Resolving ir.nist.gov (ir.nist.gov)... 129.6.13.19, 2610:20:6005:13::19\n",
            "Connecting to ir.nist.gov (ir.nist.gov)|129.6.13.19|:443... connected.\n",
            "HTTP request sent, awaiting response... 200 OK\n",
            "Length: 150110 (147K) [text/plain]\n",
            "Saving to: ‘qrels-rnd1.txt’\n",
            "\n",
            "qrels-rnd1.txt      100%[===================>] 146.59K   139KB/s    in 1.1s    \n",
            "\n",
            "2021-10-14 08:53:31 (139 KB/s) - ‘qrels-rnd1.txt’ saved [150110/150110]\n",
            "\n",
            "--2021-10-14 08:53:31--  https://ir.nist.gov/covidSubmit/archive/round1/sab20.1.meta.docs\n",
            "Resolving ir.nist.gov (ir.nist.gov)... 129.6.13.19, 2610:20:6005:13::19\n",
            "Connecting to ir.nist.gov (ir.nist.gov)|129.6.13.19|:443... connected.\n",
            "HTTP request sent, awaiting response... 200 OK\n",
            "Length: 1399940 (1.3M)\n",
            "Saving to: ‘sab20.1.meta.docs’\n",
            "\n",
            "sab20.1.meta.docs   100%[===================>]   1.33M   150KB/s    in 8.7s    \n",
            "\n",
            "2021-10-14 08:53:40 (156 KB/s) - ‘sab20.1.meta.docs’ saved [1399940/1399940]\n",
            "\n",
            "--2021-10-14 08:53:40--  https://ir.nist.gov/covidSubmit/archive/round1/run2\n",
            "Resolving ir.nist.gov (ir.nist.gov)... 129.6.13.19, 2610:20:6005:13::19\n",
            "Connecting to ir.nist.gov (ir.nist.gov)|129.6.13.19|:443... connected.\n",
            "HTTP request sent, awaiting response... 200 OK\n",
            "Length: 646650 (631K)\n",
            "Saving to: ‘GUIR_s2_run2’\n",
            "\n",
            "GUIR_s2_run2        100%[===================>] 631.49K   154KB/s    in 4.1s    \n",
            "\n",
            "2021-10-14 08:53:45 (155 KB/s) - ‘GUIR_s2_run2’ saved [646650/646650]\n",
            "\n"
          ]
        }
      ]
    },
    {
      "cell_type": "markdown",
      "metadata": {
        "id": "zij5_yAd0Mwq"
      },
      "source": [
        "## Command Line Interface\n",
        "\n",
        "The official evaluation measures for the task were P@5, nDCG@10, AP, and Ppref, but let's also check out the performance of the measures that use binary judgments using a threshold of 2 to see how the systems do on highly relevant documents. We'll also check the judgment rate of the top documents to ensure that they are sufficiently labeled.\n",
        "\n",
        "We can express these measures naturally to the ir_measures command line tool:"
      ]
    },
    {
      "cell_type": "code",
      "metadata": {
        "colab": {
          "base_uri": "https://localhost:8080/"
        },
        "id": "gn9Ti4E3xlLt",
        "outputId": "7f423b43-0841-47ef-d415-e0bb87001ad3"
      },
      "source": [
        "!ir_measures qrels-rnd1.txt sab20.1.meta.docs 'P@5 P(rel=2)@5 nDCG@10 AP AP(rel=2) Bpref Bpref(rel=2) Judged@10'"
      ],
      "execution_count": 3,
      "outputs": [
        {
          "output_type": "stream",
          "name": "stdout",
          "text": [
            "P@5\t0.7800\n",
            "P(rel=2)@5\t0.4867\n",
            "nDCG@10\t0.6080\n",
            "AP\t0.3128\n",
            "AP(rel=2)\t0.2513\n",
            "Bpref\t0.4832\n",
            "Bpref(rel=2)\t0.3193\n",
            "Judged@10\t0.9667\n"
          ]
        }
      ]
    },
    {
      "cell_type": "code",
      "metadata": {
        "colab": {
          "base_uri": "https://localhost:8080/"
        },
        "id": "g667kjjt0i3U",
        "outputId": "37eadb39-a369-4879-e23c-642cf0adb3ec"
      },
      "source": [
        "!ir_measures qrels-rnd1.txt GUIR_s2_run2 'P@5 P(rel=2)@5 nDCG@10 AP AP(rel=2) Bpref Bpref(rel=2) Judged@10'"
      ],
      "execution_count": 4,
      "outputs": [
        {
          "output_type": "stream",
          "name": "stdout",
          "text": [
            "P@5\t0.6867\n",
            "P(rel=2)@5\t0.5667\n",
            "nDCG@10\t0.6032\n",
            "AP\t0.2601\n",
            "AP(rel=2)\t0.2744\n",
            "Bpref\t0.4177\n",
            "Bpref(rel=2)\t0.3748\n",
            "Judged@10\t0.8033\n"
          ]
        }
      ]
    },
    {
      "cell_type": "markdown",
      "metadata": {
        "id": "hxVZbAry37Eq"
      },
      "source": [
        "In the above example, ir-measures automatically runs [trec_eval](https://github.com/usnistgov/trec_eval) twice: once for the measures that do not use a custom relevance thredhold and once for those that have `rel=2`. It also runs the judgment rate script from [OpenNIR](https://opennir.net).\n",
        "\n",
        "If you have [ir_datasets](https://ir-datasets.com/) installed, you can specify a dataset identifier in place of the qrels file. This takes care of automatically downloading the necessary qrels for you."
      ]
    },
    {
      "cell_type": "code",
      "metadata": {
        "colab": {
          "base_uri": "https://localhost:8080/"
        },
        "id": "2imc_acv36YI",
        "outputId": "a257839d-33cb-4722-f7e7-cb8edc7e4719"
      },
      "source": [
        "!pip install -q ir_datasets"
      ],
      "execution_count": 5,
      "outputs": [
        {
          "output_type": "stream",
          "name": "stdout",
          "text": [
            "\u001b[K     |████████████████████████████████| 222 kB 5.2 MB/s \n",
            "\u001b[K     |████████████████████████████████| 294 kB 37.5 MB/s \n",
            "\u001b[K     |████████████████████████████████| 596 kB 36.0 MB/s \n",
            "\u001b[K     |████████████████████████████████| 1.8 MB 35.2 MB/s \n",
            "\u001b[K     |████████████████████████████████| 126 kB 57.4 MB/s \n",
            "\u001b[K     |████████████████████████████████| 6.3 MB 37.5 MB/s \n",
            "\u001b[K     |████████████████████████████████| 72 kB 1.2 MB/s \n",
            "\u001b[?25h  Building wheel for cbor (setup.py) ... \u001b[?25l\u001b[?25hdone\n",
            "  Building wheel for warc3-wet-clueweb09 (setup.py) ... \u001b[?25l\u001b[?25hdone\n"
          ]
        }
      ]
    },
    {
      "cell_type": "code",
      "metadata": {
        "colab": {
          "base_uri": "https://localhost:8080/"
        },
        "id": "OTukF06O13y1",
        "outputId": "196d81db-d1a1-41f1-e533-643da7296b5a"
      },
      "source": [
        "!ir_measures cord19/trec-covid/round1 sab20.1.meta.docs 'P@5 P(rel=2)@5 nDCG@10 AP AP(rel=2) Bpref Bpref(rel=2) Judged@10'"
      ],
      "execution_count": 6,
      "outputs": [
        {
          "output_type": "stream",
          "name": "stdout",
          "text": [
            "[INFO] [starting] https://ir.nist.gov/covidSubmit/data/qrels-rnd1.txt\n",
            "[INFO] [finished] https://ir.nist.gov/covidSubmit/data/qrels-rnd1.txt: [00:00] [150kB] [225kB/s]\n",
            "P@5\t0.7800\n",
            "P(rel=2)@5\t0.4867\n",
            "nDCG@10\t0.6080\n",
            "AP\t0.3128\n",
            "AP(rel=2)\t0.2513\n",
            "Bpref\t0.4832\n",
            "Bpref(rel=2)\t0.3193\n",
            "Judged@10\t0.9667\n"
          ]
        }
      ]
    },
    {
      "cell_type": "code",
      "metadata": {
        "colab": {
          "base_uri": "https://localhost:8080/"
        },
        "id": "AglPyXR-1-A7",
        "outputId": "b481abc9-1c7d-4c5f-b197-73bb8d36b9f7"
      },
      "source": [
        "!ir_measures cord19/trec-covid/round1 GUIR_s2_run2 'P@5 P(rel=2)@5 nDCG@10 AP AP(rel=2) Bpref Bpref(rel=2) Judged@10'"
      ],
      "execution_count": 7,
      "outputs": [
        {
          "output_type": "stream",
          "name": "stdout",
          "text": [
            "P@5\t0.6867\n",
            "P(rel=2)@5\t0.5667\n",
            "nDCG@10\t0.6032\n",
            "AP\t0.2601\n",
            "AP(rel=2)\t0.2744\n",
            "Bpref\t0.4177\n",
            "Bpref(rel=2)\t0.3748\n",
            "Judged@10\t0.8033\n"
          ]
        }
      ]
    },
    {
      "cell_type": "markdown",
      "metadata": {
        "id": "2uTXErGo5sEq"
      },
      "source": [
        "You can specify other options to the command line tool as well. For instance, if you want per-query results as jsonl format, you can specify the `-q -o jsonl` flags. (This output is pretty long, so we'll just show the top 10 lines using the `head` command.)"
      ]
    },
    {
      "cell_type": "code",
      "metadata": {
        "colab": {
          "base_uri": "https://localhost:8080/"
        },
        "id": "jm57Cs8j5e8S",
        "outputId": "d54dd4e0-ac6d-4a31-f334-f5e3ff92a241"
      },
      "source": [
        "!ir_measures cord19/trec-covid/round1 sab20.1.meta.docs 'P@5 P(rel=2)@5 nDCG@10 AP AP(rel=2) Bpref Bpref(rel=2) Judged@10' -q -o jsonl | head"
      ],
      "execution_count": 8,
      "outputs": [
        {
          "output_type": "stream",
          "name": "stdout",
          "text": [
            "{\"query_id\": \"1\", \"measure\": \"AP(rel=2)\", \"value\": 0.20605122809198714}\n",
            "{\"query_id\": \"1\", \"measure\": \"Bpref(rel=2)\", \"value\": 0.2818877551020408}\n",
            "{\"query_id\": \"1\", \"measure\": \"P(rel=2)@5\", \"value\": 0.8}\n",
            "{\"query_id\": \"1\", \"measure\": \"nDCG@10\", \"value\": 0.8347683953473287}\n",
            "{\"query_id\": \"2\", \"measure\": \"AP(rel=2)\", \"value\": 0.2337564330531729}\n",
            "{\"query_id\": \"2\", \"measure\": \"Bpref(rel=2)\", \"value\": 0.27218934911242604}\n",
            "{\"query_id\": \"2\", \"measure\": \"P(rel=2)@5\", \"value\": 0.4}\n",
            "{\"query_id\": \"2\", \"measure\": \"nDCG@10\", \"value\": 0.6649794681010974}\n",
            "{\"query_id\": \"3\", \"measure\": \"AP(rel=2)\", \"value\": 0.15448036380988914}\n",
            "{\"query_id\": \"3\", \"measure\": \"Bpref(rel=2)\", \"value\": 0.21180555555555558}\n"
          ]
        }
      ]
    },
    {
      "cell_type": "markdown",
      "metadata": {
        "id": "jMCXZ0_x6d-O"
      },
      "source": [
        "## Python Interface\n",
        "\n",
        "We can run the same commands directly in Python as well."
      ]
    },
    {
      "cell_type": "code",
      "metadata": {
        "id": "PxGrWgUJ59zm"
      },
      "source": [
        "import ir_measures\n",
        "from ir_measures import * # import natural measure names"
      ],
      "execution_count": 9,
      "outputs": []
    },
    {
      "cell_type": "code",
      "metadata": {
        "id": "_teXikr26tgE"
      },
      "source": [
        "# read qrels and run files\n",
        "qrels = list(ir_measures.read_trec_qrels('qrels-rnd1.txt'))\n",
        "sab = list(ir_measures.read_trec_run('sab20.1.meta.docs'))\n",
        "guir = list(ir_measures.read_trec_run('GUIR_s2_run2'))"
      ],
      "execution_count": 10,
      "outputs": []
    },
    {
      "cell_type": "code",
      "metadata": {
        "colab": {
          "base_uri": "https://localhost:8080/"
        },
        "id": "8D2Yiw-z6wCd",
        "outputId": "7bcbf6cf-0c87-4aa9-fade-554888ad736c"
      },
      "source": [
        "ir_measures.calc_aggregate([P@5, P(rel=2)@5, nDCG@10, AP, AP(rel=2), Bpref, Bpref(rel=2), Judged@10], qrels, sab)"
      ],
      "execution_count": 11,
      "outputs": [
        {
          "output_type": "execute_result",
          "data": {
            "text/plain": [
              "{AP: 0.31280026201626626,\n",
              " AP(rel=2): 0.2513444681464884,\n",
              " Bpref: 0.48316577337967653,\n",
              " Bpref(rel=2): 0.3193286425239503,\n",
              " Judged@10: 0.9666666666666667,\n",
              " P(rel=2)@5: 0.48666666666666675,\n",
              " P@5: 0.7799999999999999,\n",
              " nDCG@10: 0.607996962444336}"
            ]
          },
          "metadata": {},
          "execution_count": 11
        }
      ]
    },
    {
      "cell_type": "code",
      "metadata": {
        "colab": {
          "base_uri": "https://localhost:8080/"
        },
        "id": "bLeRf4EL7A-I",
        "outputId": "08763002-2270-4037-bfda-caf818f265a5"
      },
      "source": [
        "ir_measures.calc_aggregate([P@5, P(rel=2)@5, nDCG@10, AP, AP(rel=2), Bpref, Bpref(rel=2), Judged@10], qrels, guir)"
      ],
      "execution_count": 12,
      "outputs": [
        {
          "output_type": "execute_result",
          "data": {
            "text/plain": [
              "{AP: 0.26009942341913844,\n",
              " AP(rel=2): 0.2743896188055524,\n",
              " Bpref: 0.41773486708968066,\n",
              " Bpref(rel=2): 0.3748322644003913,\n",
              " Judged@10: 0.8033333333333333,\n",
              " P(rel=2)@5: 0.5666666666666667,\n",
              " P@5: 0.6866666666666668,\n",
              " nDCG@10: 0.6031939620699799}"
            ]
          },
          "metadata": {},
          "execution_count": 12
        }
      ]
    },
    {
      "cell_type": "markdown",
      "metadata": {
        "id": "fzp_kMNA7btm"
      },
      "source": [
        "The above code is inefficient becuase it needs to process the qrels twice -- once for each run. You can use an evaluator to eliminate this extra work."
      ]
    },
    {
      "cell_type": "code",
      "metadata": {
        "id": "5-iqV_8a7Z0I"
      },
      "source": [
        "evaluator = ir_measures.evaluator([P@5, P(rel=2)@5, nDCG@10, AP, AP(rel=2), Bpref, Bpref(rel=2), Judged@10], qrels)"
      ],
      "execution_count": 13,
      "outputs": []
    },
    {
      "cell_type": "code",
      "metadata": {
        "colab": {
          "base_uri": "https://localhost:8080/"
        },
        "id": "CEBcgYxq7v6I",
        "outputId": "4b6dc938-3a2a-4ccb-cbf1-6acf4db459ab"
      },
      "source": [
        "evaluator.calc_aggregate(guir)"
      ],
      "execution_count": 14,
      "outputs": [
        {
          "output_type": "execute_result",
          "data": {
            "text/plain": [
              "{AP: 0.26009942341913844,\n",
              " AP(rel=2): 0.2743896188055524,\n",
              " Bpref: 0.41773486708968066,\n",
              " Bpref(rel=2): 0.3748322644003913,\n",
              " Judged@10: 0.8033333333333333,\n",
              " P(rel=2)@5: 0.5666666666666667,\n",
              " P@5: 0.6866666666666668,\n",
              " nDCG@10: 0.6031939620699799}"
            ]
          },
          "metadata": {},
          "execution_count": 14
        }
      ]
    },
    {
      "cell_type": "code",
      "metadata": {
        "colab": {
          "base_uri": "https://localhost:8080/"
        },
        "id": "qmtt5Nyz7xgA",
        "outputId": "861b8685-8550-4b51-8740-f7474e77c325"
      },
      "source": [
        "from timeit import timeit\n",
        "time = timeit(lambda: ir_measures.calc_aggregate([P@5, P(rel=2)@5, nDCG@10, AP, AP(rel=2), Bpref, Bpref(rel=2), Judged@10], qrels, guir), number=10)\n",
        "print(f'ir_measures.calc_aggregate: {time/10*1000:0.2f}ms/invocation')\n",
        "time = timeit(lambda: evaluator.calc_aggregate(guir), number=10)\n",
        "print(f'evaluator.calc_aggregate:   {time/10*1000:0.2f}ms/invocation')"
      ],
      "execution_count": 15,
      "outputs": [
        {
          "output_type": "stream",
          "name": "stdout",
          "text": [
            "ir_measures.calc_aggregate: 49.33ms/invocation\n",
            "evaluator.calc_aggregate:   35.08ms/invocation\n"
          ]
        }
      ]
    },
    {
      "cell_type": "markdown",
      "metadata": {
        "id": "wTdMxd_x9L2z"
      },
      "source": [
        "You can also get per-query results using `iter_calc`. This allows us to analyse per-query performance and conduct statistical tests."
      ]
    },
    {
      "cell_type": "code",
      "metadata": {
        "colab": {
          "base_uri": "https://localhost:8080/"
        },
        "id": "TmWvXOhb75gN",
        "outputId": "76614515-debc-4a76-efc8-889903c0cb61"
      },
      "source": [
        "count = 0\n",
        "for metric in ir_measures.iter_calc([P@5, P(rel=2)@5, nDCG@10, AP, AP(rel=2), Bpref, Bpref(rel=2), Judged@10], qrels, guir):\n",
        "  print(metric)\n",
        "  count += 1\n",
        "  if count >= 10: break # only show top 10 items\n",
        "\n",
        "sab_p_rel2_5 = {m.query_id: m.value for m in ir_measures.iter_calc([Bpref(rel=2)], qrels, sab)}\n",
        "guir_p_rel2_5 = {m.query_id: m.value for m in ir_measures.iter_calc([Bpref(rel=2)], qrels, guir)}\n",
        "\n",
        "from scipy.stats import ttest_rel\n",
        "qids = list(sab_p_rel2_5.keys())\n",
        "ttest_rel([sab_p_rel2_5[v] for v in qids], [guir_p_rel2_5[v] for v in qids])"
      ],
      "execution_count": 16,
      "outputs": [
        {
          "output_type": "stream",
          "name": "stdout",
          "text": [
            "Metric(query_id='1', measure=AP(rel=2), value=0.07145298238302196)\n",
            "Metric(query_id='1', measure=Bpref(rel=2), value=0.1992984693877551)\n",
            "Metric(query_id='1', measure=P(rel=2)@5, value=0.2)\n",
            "Metric(query_id='1', measure=nDCG@10, value=0.4519974004479882)\n",
            "Metric(query_id='2', measure=AP(rel=2), value=0.2360970952991868)\n",
            "Metric(query_id='2', measure=Bpref(rel=2), value=0.2869822485207101)\n",
            "Metric(query_id='2', measure=P(rel=2)@5, value=0.8)\n",
            "Metric(query_id='2', measure=nDCG@10, value=0.7798385221413586)\n",
            "Metric(query_id='3', measure=AP(rel=2), value=0.1820361550264641)\n",
            "Metric(query_id='3', measure=Bpref(rel=2), value=0.2517361111111111)\n"
          ]
        },
        {
          "output_type": "execute_result",
          "data": {
            "text/plain": [
              "Ttest_relResult(statistic=-1.9683404208802118, pvalue=0.0586544719955888)"
            ]
          },
          "metadata": {},
          "execution_count": 16
        }
      ]
    },
    {
      "cell_type": "markdown",
      "metadata": {
        "id": "10kg_Jm4-9U5"
      },
      "source": [
        "## PyTerrer Integration\n",
        "\n",
        "ir-datasets is easy to use in other tools. Here, we see how [PyTerrier](https://pyterrier.readthedocs.io/) uses ir-measures for specifying evaluation criteria in experiments:"
      ]
    },
    {
      "cell_type": "code",
      "metadata": {
        "colab": {
          "base_uri": "https://localhost:8080/"
        },
        "id": "RJqcv6aD9VVV",
        "outputId": "924142ca-6667-42c8-88aa-df651504b471"
      },
      "source": [
        "!pip install -q git+https://github.com/terrier-org/pyterrier.git"
      ],
      "execution_count": 17,
      "outputs": [
        {
          "output_type": "stream",
          "name": "stdout",
          "text": [
            "\u001b[K     |████████████████████████████████| 1.1 MB 5.3 MB/s \n",
            "\u001b[K     |████████████████████████████████| 69 kB 6.7 MB/s \n",
            "\u001b[K     |████████████████████████████████| 45 kB 2.6 MB/s \n",
            "\u001b[?25h  Building wheel for python-terrier (setup.py) ... \u001b[?25l\u001b[?25hdone\n",
            "  Building wheel for chest (setup.py) ... \u001b[?25l\u001b[?25hdone\n",
            "  Building wheel for wget (setup.py) ... \u001b[?25l\u001b[?25hdone\n"
          ]
        }
      ]
    },
    {
      "cell_type": "code",
      "metadata": {
        "colab": {
          "base_uri": "https://localhost:8080/"
        },
        "id": "1WAYUdsM_Poh",
        "outputId": "a71461f0-1cd9-44d6-a993-1f82f5c788ad"
      },
      "source": [
        "import pyterrier as pt\n",
        "if not pt.started():\n",
        "  pt.init()"
      ],
      "execution_count": 18,
      "outputs": [
        {
          "output_type": "stream",
          "name": "stdout",
          "text": [
            "terrier-assemblies 5.6 jar-with-dependencies not found, downloading to /root/.pyterrier...\n",
            "Done\n",
            "terrier-python-helper 0.0.6 jar not found, downloading to /root/.pyterrier...\n",
            "Done\n",
            "PyTerrier 0.7.0 has loaded Terrier 5.6 (built by craigmacdonald on 2021-09-17 13:27)\n"
          ]
        }
      ]
    },
    {
      "cell_type": "code",
      "metadata": {
        "colab": {
          "base_uri": "https://localhost:8080/",
          "height": 556,
          "referenced_widgets": [
            "07432eee05c14c38916241410f692c6a",
            "cdf406e1749c4479bd268a22db11526c",
            "a82c0181c97e48249b775698204b63a7",
            "86a5d201e25944dbb4e63c7e9471cdba",
            "e80b23c4f32643b988237e376b489e50",
            "3bdc989056754c19b9e051103c92c632",
            "8b49253640a44551a24901913a73648b",
            "20f4ae3ead36436488d46929248f6641",
            "b31231ff52aa4d6cbd999c8017526ec2",
            "12561d8aff784a08a54c3e8265f1f7ba",
            "8b12754b22a0416ca75895e2e710e913"
          ]
        },
        "id": "a-5mqmTL_UVK",
        "outputId": "21e41ab3-64b6-4065-f6e1-7e20b00f7773"
      },
      "source": [
        "# NOTE: this example uses TREC COVID complete, rather than round1\n",
        "dataset = pt.get_dataset('irds:cord19/trec-covid')\n",
        "pt.Experiment(\n",
        "    [pt.BatchRetrieve.from_dataset('trec-covid', 'terrier_stemmed', wmodel='DPH'),\n",
        "     pt.BatchRetrieve.from_dataset('trec-covid', 'terrier_stemmed', wmodel='BM25')],\n",
        "    dataset.get_topics('description'),\n",
        "    dataset.get_qrels(),\n",
        "    eval_metrics=[P@5, P(rel=2)@5, nDCG@10, AP, AP(rel=2), Bpref, Bpref(rel=2), Judged@10],\n",
        "#                 ^ using ir_measures\n",
        ")"
      ],
      "execution_count": 19,
      "outputs": [
        {
          "output_type": "stream",
          "name": "stdout",
          "text": [
            "Downloading trec-covid index to /root/.pyterrier/corpora/trec-covid/index/terrier_stemmed\n"
          ]
        },
        {
          "output_type": "display_data",
          "data": {
            "application/vnd.jupyter.widget-view+json": {
              "model_id": "07432eee05c14c38916241410f692c6a",
              "version_minor": 0,
              "version_major": 2
            },
            "text/plain": [
              "data.lexicon.fsomapfile:   0%|          | 0.00/14.2M [00:00<?, ?iB/s]"
            ]
          },
          "metadata": {}
        },
        {
          "output_type": "display_data",
          "data": {
            "application/vnd.jupyter.widget-view+json": {
              "model_id": "326a967e143a4723806b80d864ac7dda",
              "version_minor": 0,
              "version_major": 2
            },
            "text/plain": [
              "data.meta.zdata:   0%|          | 0.00/4.38M [00:00<?, ?iB/s]"
            ]
          },
          "metadata": {}
        },
        {
          "output_type": "display_data",
          "data": {
            "application/vnd.jupyter.widget-view+json": {
              "model_id": "79dd136a5a3744feb338fa17e927a6f2",
              "version_minor": 0,
              "version_major": 2
            },
            "text/plain": [
              "data.direct.bf:   0%|          | 0.00/23.2M [00:00<?, ?iB/s]"
            ]
          },
          "metadata": {}
        },
        {
          "output_type": "display_data",
          "data": {
            "application/vnd.jupyter.widget-view+json": {
              "model_id": "2dcba93395b5474d85557231d7e3f708",
              "version_minor": 0,
              "version_major": 2
            },
            "text/plain": [
              "md5sums:   0%|          | 0.00/537 [00:00<?, ?iB/s]"
            ]
          },
          "metadata": {}
        },
        {
          "output_type": "display_data",
          "data": {
            "application/vnd.jupyter.widget-view+json": {
              "model_id": "5ea86d0ee46b44eb8d318620b74e8f97",
              "version_minor": 0,
              "version_major": 2
            },
            "text/plain": [
              "data.document.fsarrayfile:   0%|          | 0.00/4.56M [00:00<?, ?iB/s]"
            ]
          },
          "metadata": {}
        },
        {
          "output_type": "display_data",
          "data": {
            "application/vnd.jupyter.widget-view+json": {
              "model_id": "dcd0432126654a4bab24d96b8fa988c7",
              "version_minor": 0,
              "version_major": 2
            },
            "text/plain": [
              "data.properties:   0%|          | 0.00/4.33k [00:00<?, ?iB/s]"
            ]
          },
          "metadata": {}
        },
        {
          "output_type": "display_data",
          "data": {
            "application/vnd.jupyter.widget-view+json": {
              "model_id": "aecbe02bd2b6499d9098438337409e6f",
              "version_minor": 0,
              "version_major": 2
            },
            "text/plain": [
              "data.inverted.bf:   0%|          | 0.00/21.3M [00:00<?, ?iB/s]"
            ]
          },
          "metadata": {}
        },
        {
          "output_type": "display_data",
          "data": {
            "application/vnd.jupyter.widget-view+json": {
              "model_id": "f761331afc1f40459d23344958e4a279",
              "version_minor": 0,
              "version_major": 2
            },
            "text/plain": [
              "data.meta.idx:   0%|          | 0.00/1.46M [00:00<?, ?iB/s]"
            ]
          },
          "metadata": {}
        },
        {
          "output_type": "display_data",
          "data": {
            "application/vnd.jupyter.widget-view+json": {
              "model_id": "7952c636ac81401aae0ac46a06c3fa3f",
              "version_minor": 0,
              "version_major": 2
            },
            "text/plain": [
              "data.meta-0.fsomapfile:   0%|          | 0.00/5.29M [00:00<?, ?iB/s]"
            ]
          },
          "metadata": {}
        },
        {
          "output_type": "display_data",
          "data": {
            "application/vnd.jupyter.widget-view+json": {
              "model_id": "fd48920a09874475990020245b7449bb",
              "version_minor": 0,
              "version_major": 2
            },
            "text/plain": [
              "data.lexicon.fsomaphash:   0%|          | 0.00/0.99k [00:00<?, ?iB/s]"
            ]
          },
          "metadata": {}
        },
        {
          "output_type": "display_data",
          "data": {
            "application/vnd.jupyter.widget-view+json": {
              "model_id": "11f8dca1d41741eb8596d5a58e1c6572",
              "version_minor": 0,
              "version_major": 2
            },
            "text/plain": [
              "data.lexicon.fsomapid:   0%|          | 0.00/619k [00:00<?, ?iB/s]"
            ]
          },
          "metadata": {}
        },
        {
          "output_type": "stream",
          "name": "stderr",
          "text": [
            "[INFO] [starting] https://ir.nist.gov/covidSubmit/data/topics-rnd5.xml\n",
            "[INFO] [finished] https://ir.nist.gov/covidSubmit/data/topics-rnd5.xml: [00:00] [18.7kB] [8.76MB/s]\n",
            "[INFO] [starting] https://ir.nist.gov/covidSubmit/data/qrels-covid_d5_j0.5-5.txt\n",
            "[INFO] [finished] https://ir.nist.gov/covidSubmit/data/qrels-covid_d5_j0.5-5.txt: [00:03] [1.14MB] [303kB/s]\n"
          ]
        },
        {
          "output_type": "execute_result",
          "data": {
            "text/html": [
              "<div>\n",
              "<style scoped>\n",
              "    .dataframe tbody tr th:only-of-type {\n",
              "        vertical-align: middle;\n",
              "    }\n",
              "\n",
              "    .dataframe tbody tr th {\n",
              "        vertical-align: top;\n",
              "    }\n",
              "\n",
              "    .dataframe thead th {\n",
              "        text-align: right;\n",
              "    }\n",
              "</style>\n",
              "<table border=\"1\" class=\"dataframe\">\n",
              "  <thead>\n",
              "    <tr style=\"text-align: right;\">\n",
              "      <th></th>\n",
              "      <th>name</th>\n",
              "      <th>P@5</th>\n",
              "      <th>P(rel=2)@5</th>\n",
              "      <th>nDCG@10</th>\n",
              "      <th>AP</th>\n",
              "      <th>AP(rel=2)</th>\n",
              "      <th>Bpref</th>\n",
              "      <th>Bpref(rel=2)</th>\n",
              "      <th>Judged@10</th>\n",
              "    </tr>\n",
              "  </thead>\n",
              "  <tbody>\n",
              "    <tr>\n",
              "      <th>0</th>\n",
              "      <td>BR(DPH)</td>\n",
              "      <td>0.720</td>\n",
              "      <td>0.608</td>\n",
              "      <td>0.642340</td>\n",
              "      <td>0.196439</td>\n",
              "      <td>0.173106</td>\n",
              "      <td>0.337958</td>\n",
              "      <td>0.301890</td>\n",
              "      <td>0.964</td>\n",
              "    </tr>\n",
              "    <tr>\n",
              "      <th>1</th>\n",
              "      <td>BR(BM25)</td>\n",
              "      <td>0.716</td>\n",
              "      <td>0.592</td>\n",
              "      <td>0.624045</td>\n",
              "      <td>0.223192</td>\n",
              "      <td>0.196708</td>\n",
              "      <td>0.364892</td>\n",
              "      <td>0.326601</td>\n",
              "      <td>0.930</td>\n",
              "    </tr>\n",
              "  </tbody>\n",
              "</table>\n",
              "</div>"
            ],
            "text/plain": [
              "       name    P@5  P(rel=2)@5  ...     Bpref  Bpref(rel=2)  Judged@10\n",
              "0   BR(DPH)  0.720       0.608  ...  0.337958      0.301890      0.964\n",
              "1  BR(BM25)  0.716       0.592  ...  0.364892      0.326601      0.930\n",
              "\n",
              "[2 rows x 9 columns]"
            ]
          },
          "metadata": {},
          "execution_count": 19
        }
      ]
    },
    {
      "cell_type": "code",
      "metadata": {
        "id": "xvq2uicI_yGd"
      },
      "source": [
        ""
      ],
      "execution_count": 19,
      "outputs": []
    }
  ]
}
